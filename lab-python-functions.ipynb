{
 "cells": [
  {
   "cell_type": "markdown",
   "id": "25d7736c-ba17-4aff-b6bb-66eba20fbf4e",
   "metadata": {},
   "source": [
    "# Lab | Functions"
   ]
  },
  {
   "cell_type": "markdown",
   "id": "0c581062-8967-4d93-b06e-62833222f930",
   "metadata": {
    "tags": []
   },
   "source": [
    "## Exercise: Managing Customer Orders with Functions\n",
    "\n",
    "In the previous exercise, you improved the code for managing customer orders by using loops and flow control. Now, let's take it a step further and refactor the code by introducing functions.\n",
    "\n",
    "Follow the steps below to complete the exercise:\n",
    "\n",
    "1. Define a function named `initialize_inventory` that takes `products` as a parameter. Inside the function, implement the code for initializing the inventory dictionary using a loop and user input.\n",
    "\n",
    "2. Define a function named `get_customer_orders` that takes no parameters. Inside the function, implement the code for prompting the user to enter the product names using a loop. The function should return the `customer_orders` set.\n",
    "\n",
    "3. Define a function named `update_inventory` that takes `customer_orders` and `inventory` as parameters. Inside the function, implement the code for updating the inventory dictionary based on the customer orders.\n",
    "\n",
    "4. Define a function named `calculate_order_statistics` that takes `customer_orders` and `products` as parameters. Inside the function, implement the code for calculating the order statistics (total products ordered, and percentage of unique products ordered). The function should return these values.\n",
    "\n",
    "5. Define a function named `print_order_statistics` that takes `order_statistics` as a parameter. Inside the function, implement the code for printing the order statistics.\n",
    "\n",
    "6. Define a function named `print_updated_inventory` that takes `inventory` as a parameter. Inside the function, implement the code for printing the updated inventory.\n",
    "\n",
    "7. Call the functions in the appropriate sequence to execute the program and manage customer orders.\n",
    "\n",
    "Hints for functions:\n",
    "\n",
    "- Consider the input parameters required for each function and their return values.\n",
    "- Utilize function parameters and return values to transfer data between functions.\n",
    "- Test your functions individually to ensure they work correctly.\n",
    "\n",
    "\n"
   ]
  },
  {
   "cell_type": "code",
   "execution_count": 40,
   "id": "3f0592ff",
   "metadata": {},
   "outputs": [],
   "source": [
    "def initialize_inventory(products):\n",
    "    \"\"\"initializing the inventory dictionary using a loop and user input.\n",
    "    \"\"\"\n",
    "    inventory={}\n",
    "    for item in products:\n",
    "        quantity= input(f'enter the quantity of {item}:')\n",
    "        inventory[item]= quantity\n",
    "        while not quantity.isdigit():\n",
    "            quantity= input(f'not a integer number, please enter the quantity of {item}: ')    \n",
    "            inventory[item]= quantity\n",
    "        inventory[item]=int(inventory[item])\n",
    "    return inventory\n",
    "\n",
    "def get_customer_orders(products):\n",
    "    \"\"\"The function return the customer_orders.\n",
    "    \"\"\" \n",
    "    customer_orders = dict()\n",
    "    while True:\n",
    "        order = input('We have {products}. Which product would you like to order ')\n",
    "        while order not in products: \n",
    "            order = input(f'Please type one of the followting product {products}')\n",
    "        quantity = input('how many unit of the product do you want to order: ')\n",
    "        while not quantity.isdigit(): \n",
    "            quantity = input(f'Please type the number ')\n",
    "        customer_orders.update({order:int(quantity)})       \n",
    "        extra_item=input(f'would you like to add another item ?:' )\n",
    "        while not (extra_item==\"yes\" or extra_item==\"no\"): \n",
    "            extra_item=input(f\"Sorry I couldn't understand, please tape yes or no:\" )\n",
    "        if extra_item =='no':\n",
    "            break\n",
    "    return customer_orders\n",
    "\n",
    "def update_inventory(customer_orders, inventory):\n",
    "    \"\"\" This function update the inventory dictionary based on the customer orders.\n",
    "    \"\"\"\n",
    "\n",
    "    for key,value in customer_orders.items():\n",
    "        inventory[key]-=customer_orders[key]\n",
    "    return inventory\n",
    "\n",
    "def calculate_order_statistics (customer_orders, inventory):\n",
    "    \"\"\" calculated the order statistics (total products ordered, and percentage of unique products ordered).\n",
    "    The function return these values.\n",
    "    \"\"\"\n",
    "    \n",
    "    total_items=0\n",
    "    total_products=0\n",
    "    for key,value in customer_orders.items():\n",
    "        total_items+=customer_orders[key]\n",
    "    for key,value in inventory.items():\n",
    "        total_products+=inventory[key]\n",
    "    porcentage_products=(total_items/total_products*100)\n",
    "    unique_products = len(customer_orders) \n",
    "    return total_items, porcentage_products, unique_products \n",
    "\n",
    "def print_order_statistics (order_statistics):\n",
    "    \"\"\"printing the order statistics.\"\"\"\n",
    "    print( f'''they order a total of {order_statistics[0]} and order {order_statistics[2]} different products.\n",
    "    Which is {order_statistics[1]}% of the products.''')\n",
    "\n",
    "def print_updated_inventory(inventory):\n",
    "    \"\"\"Inside the function, implement the code for printing the updated inventory.\"\"\"\n",
    "    print(f'The inventory after customer purchase is :{inventory}')"
   ]
  },
  {
   "cell_type": "code",
   "execution_count": 41,
   "id": "1bac1638",
   "metadata": {},
   "outputs": [
    {
     "name": "stdout",
     "output_type": "stream",
     "text": [
      "enter the quantity of t-shirt:10\n",
      "enter the quantity of mug:10\n",
      "We have {products}. Which product would you like to order mug\n",
      "how many unit of the product do you want to order: 6\n",
      "would you like to add another item ?:no\n",
      "they order a total of 6 and order 1 different products.\n",
      "    Which is 30.0% of the products\n",
      "The inventory after customer purchase is :{'t-shirt': 10, 'mug': 4}\n"
     ]
    }
   ],
   "source": [
    "products = [\"t-shirt\", \"mug\"]#,\"hat\", \"book\", \"keychain\" ]\n",
    "inventory = initialize_inventory(products)\n",
    "customer_orders = get_customer_orders(products)\n",
    "order_statistics = calculate_order_statistics(customer_orders, inventory)\n",
    "inventory = update_inventory(customer_orders, inventory)\n",
    "print_order_statistics(order_statistics)\n",
    "print_updated_inventory(inventory)"
   ]
  },
  {
   "cell_type": "code",
   "execution_count": 29,
   "id": "75c86901",
   "metadata": {},
   "outputs": [
    {
     "name": "stdout",
     "output_type": "stream",
     "text": [
      "{'t-shirt': 50, 'mug': 40}\n",
      "(10, 50.0, 1)\n"
     ]
    }
   ],
   "source": [
    "print(inventory)\n",
    "print(order_statistics)"
   ]
  },
  {
   "cell_type": "code",
   "execution_count": null,
   "id": "3f20184a",
   "metadata": {},
   "outputs": [],
   "source": [
    "#creation of the inventory\n",
    "products =[\"t-shirt\", \"mug\", \"hat\", \"book\", \"keychain\"]\n",
    "inventory={}\n",
    "for item in products:\n",
    "    quantity= input(f'enter the quantity of {item}:')\n",
    "    inventory[item]= quantity\n",
    "    while not quantity.isdigit():\n",
    "        quantity= input(f'not a integer number, please enter the quantity of {item}: ')    \n",
    "        inventory[item]= quantity\n",
    "    inventory[item]=int(inventory[item])\n",
    "inventory\n",
    "\n",
    "#create customer order\n",
    "customer_orders = dict()\n",
    "while True:\n",
    "    order = input('enter name of your product: ')\n",
    "    while order not in products: \n",
    "        order = input(f'Please type a product in {products}')\n",
    "    quantity = input('how many do you want to order: ')\n",
    "    while not quantity.isdigit(): \n",
    "        quantity = input(f'Please type number ')\n",
    "    customer_orders.update({order:int(quantity)})       \n",
    "    extra_item=input(f'would you like to add another item?:' )\n",
    "    while not (extra_item==\"yes\" or extra_item==\"no\"): \n",
    "        extra_item=input(f\"Sorry I couldn't understand, please tape yes or no:\" )\n",
    "    if extra_item =='no':\n",
    "        break\n",
    "customer_orders\n",
    "\n",
    "#update inventory\n",
    "for key,value in customer_orders.items():\n",
    "    inventory[key]-=customer_orders[key]\n",
    "inventory"
   ]
  },
  {
   "cell_type": "code",
   "execution_count": null,
   "id": "7de27d11",
   "metadata": {},
   "outputs": [],
   "source": [
    "\n"
   ]
  },
  {
   "cell_type": "code",
   "execution_count": null,
   "id": "6e32bccc",
   "metadata": {},
   "outputs": [],
   "source": []
  },
  {
   "cell_type": "code",
   "execution_count": null,
   "id": "efe745ef",
   "metadata": {},
   "outputs": [],
   "source": []
  },
  {
   "cell_type": "code",
   "execution_count": null,
   "id": "827933fc",
   "metadata": {},
   "outputs": [],
   "source": []
  },
  {
   "cell_type": "code",
   "execution_count": null,
   "id": "bb3826c2",
   "metadata": {},
   "outputs": [],
   "source": []
  },
  {
   "cell_type": "code",
   "execution_count": null,
   "id": "bb058eef",
   "metadata": {},
   "outputs": [],
   "source": []
  },
  {
   "cell_type": "code",
   "execution_count": null,
   "id": "8159fbba",
   "metadata": {},
   "outputs": [],
   "source": []
  },
  {
   "cell_type": "code",
   "execution_count": null,
   "id": "fbb34842",
   "metadata": {},
   "outputs": [],
   "source": []
  },
  {
   "cell_type": "code",
   "execution_count": null,
   "id": "1fc4535a",
   "metadata": {},
   "outputs": [],
   "source": []
  },
  {
   "cell_type": "code",
   "execution_count": null,
   "id": "bc502ac6",
   "metadata": {},
   "outputs": [],
   "source": []
  },
  {
   "cell_type": "code",
   "execution_count": 59,
   "id": "511b32a2",
   "metadata": {},
   "outputs": [
    {
     "name": "stdout",
     "output_type": "stream",
     "text": [
      "40.0\n",
      "20\n",
      "{'mug': 10, 'hat': 10}\n"
     ]
    }
   ],
   "source": [
    "total_items=0\n",
    "for key,value in customer_orders.items():\n",
    "    total_items+=customer_orders[key]\n",
    "print(len(customer_orders)/len(products)*100)\n",
    "print(total_items)\n",
    "print(customer_orders)"
   ]
  }
 ],
 "metadata": {
  "kernelspec": {
   "display_name": "Python 3 (ipykernel)",
   "language": "python",
   "name": "python3"
  },
  "language_info": {
   "codemirror_mode": {
    "name": "ipython",
    "version": 3
   },
   "file_extension": ".py",
   "mimetype": "text/x-python",
   "name": "python",
   "nbconvert_exporter": "python",
   "pygments_lexer": "ipython3",
   "version": "3.11.5"
  }
 },
 "nbformat": 4,
 "nbformat_minor": 5
}
