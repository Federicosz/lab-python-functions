{
 "cells": [
  {
   "cell_type": "markdown",
   "id": "25d7736c-ba17-4aff-b6bb-66eba20fbf4e",
   "metadata": {},
   "source": [
    "# Lab | Functions"
   ]
  },
  {
   "cell_type": "markdown",
   "id": "0c581062-8967-4d93-b06e-62833222f930",
   "metadata": {
    "tags": []
   },
   "source": [
    "## Exercise: Managing Customer Orders with Functions\n",
    "\n",
    "In the previous exercise, you improved the code for managing customer orders by using loops and flow control. Now, let's take it a step further and refactor the code by introducing functions.\n",
    "\n",
    "Follow the steps below to complete the exercise:\n",
    "\n",
    "1. Define a function named `initialize_inventory` that takes `products` as a parameter. Inside the function, implement the code for initializing the inventory dictionary using a loop and user input.\n",
    "\n",
    "2. Define a function named `get_customer_orders` that takes no parameters. Inside the function, implement the code for prompting the user to enter the product names using a loop. The function should return the `customer_orders` set.\n",
    "\n",
    "3. Define a function named `update_inventory` that takes `customer_orders` and `inventory` as parameters. Inside the function, implement the code for updating the inventory dictionary based on the customer orders.\n",
    "\n",
    "4. Define a function named `calculate_order_statistics` that takes `customer_orders` and `products` as parameters. Inside the function, implement the code for calculating the order statistics (total products ordered, and percentage of unique products ordered). The function should return these values.\n",
    "\n",
    "5. Define a function named `print_order_statistics` that takes `order_statistics` as a parameter. Inside the function, implement the code for printing the order statistics.\n",
    "\n",
    "6. Define a function named `print_updated_inventory` that takes `inventory` as a parameter. Inside the function, implement the code for printing the updated inventory.\n",
    "\n",
    "7. Call the functions in the appropriate sequence to execute the program and manage customer orders.\n",
    "\n",
    "Hints for functions:\n",
    "\n",
    "- Consider the input parameters required for each function and their return values.\n",
    "- Utilize function parameters and return values to transfer data between functions.\n",
    "- Test your functions individually to ensure they work correctly.\n",
    "\n",
    "\n"
   ]
  },
  {
   "cell_type": "code",
   "execution_count": 42,
   "id": "06fdcf92",
   "metadata": {},
   "outputs": [],
   "source": [
    "def initialize_inventory(products):\n",
    "    \"\"\"initializing the inventory dictionary using a loop and user input.\n",
    "    \"\"\"\n",
    "    inventory={}\n",
    "    for item in products:\n",
    "        quantity= input(f'enter the quantity of {item}:')\n",
    "        inventory[item]= quantity\n",
    "        while not quantity.isdigit():\n",
    "            quantity= input(f'not a integer number, please enter the quantity of {item}: ')    \n",
    "            inventory[item]= quantity\n",
    "        inventory[item]=int(inventory[item])\n",
    "    return inventory\n",
    "\n",
    "def get_customer_orders(products):\n",
    "    \"\"\"The function return the customer_orders.\n",
    "    \"\"\" \n",
    "    customer_orders = dict()\n",
    "    while True:\n",
    "        order = input(f'We have {products}. Which product would you like to order ')\n",
    "        while order not in products: \n",
    "            order = input(f'Please type one of the followting product {products}')\n",
    "        quantity = input('how many unit of the product do you want to order: ')\n",
    "        while not quantity.isdigit(): \n",
    "            quantity = input(f'Please type the number ')\n",
    "        customer_orders.update({order:int(quantity)})       \n",
    "        extra_item=input(f'would you like to add another item ?:' )\n",
    "        while not (extra_item==\"yes\" or extra_item==\"no\"): \n",
    "            extra_item=input(f\"Sorry I couldn't understand, please tape yes or no:\" )\n",
    "        if extra_item =='no':\n",
    "            break\n",
    "    return customer_orders\n",
    "\n",
    "def update_inventory(customer_orders, inventory):\n",
    "    \"\"\" This function update the inventory dictionary based on the customer orders.\n",
    "    \"\"\"\n",
    "\n",
    "    for key,value in customer_orders.items():\n",
    "        inventory[key]-=customer_orders[key]\n",
    "    return inventory\n",
    "\n",
    "def calculate_order_statistics (customer_orders, inventory):\n",
    "    \"\"\" calculated the order statistics (total products ordered, and percentage of unique products ordered).\n",
    "    The function return these values.\n",
    "    \"\"\"\n",
    "    \n",
    "    total_items=0\n",
    "    total_products=0\n",
    "    for key,value in customer_orders.items():\n",
    "        total_items+=customer_orders[key]\n",
    "    for key,value in inventory.items():\n",
    "        total_products+=inventory[key]\n",
    "    porcentage_products=(total_items/total_products*100)\n",
    "    unique_products = len(customer_orders) \n",
    "    return total_items, porcentage_products, unique_products \n",
    "\n",
    "def print_order_statistics (order_statistics):\n",
    "    \"\"\"printing the order statistics.\"\"\"\n",
    "    print( f'''they order a total of {order_statistics[0]} and order {order_statistics[2]} different products.\n",
    "    Which is {order_statistics[1]}% of the products.''')\n",
    "\n",
    "def print_updated_inventory(inventory):\n",
    "    \"\"\"Inside the function, implement the code for printing the updated inventory.\"\"\"\n",
    "    print(f'The inventory after customer purchase is :{inventory}')"
   ]
  },
  {
   "cell_type": "code",
   "execution_count": 43,
   "id": "1d5afe85",
   "metadata": {},
   "outputs": [
    {
     "name": "stdout",
     "output_type": "stream",
     "text": [
      "enter the quantity of t-shirt:1\n",
      "enter the quantity of mug:5\n",
      "We have ['t-shirt', 'mug']. Which product would you like to order mug\n",
      "how many unit of the product do you want to order: 4\n",
      "would you like to add another item ?:no\n",
      "they order a total of 4 and order 1 different products.\n",
      "    Which is 66.66666666666666% of the products.\n",
      "The inventory after customer purchase is :{'t-shirt': 1, 'mug': 1}\n"
     ]
    }
   ],
   "source": [
    "products = [\"t-shirt\", \"mug\"]#,\"hat\", \"book\", \"keychain\" ]\n",
    "inventory = initialize_inventory(products)\n",
    "customer_orders = get_customer_orders(products)\n",
    "order_statistics = calculate_order_statistics(customer_orders, inventory)\n",
    "inventory = update_inventory(customer_orders, inventory)\n",
    "print_order_statistics(order_statistics)\n",
    "print_updated_inventory(inventory)"
   ]
  }
 ],
 "metadata": {
  "kernelspec": {
   "display_name": "Python 3 (ipykernel)",
   "language": "python",
   "name": "python3"
  },
  "language_info": {
   "codemirror_mode": {
    "name": "ipython",
    "version": 3
   },
   "file_extension": ".py",
   "mimetype": "text/x-python",
   "name": "python",
   "nbconvert_exporter": "python",
   "pygments_lexer": "ipython3",
   "version": "3.11.5"
  }
 },
 "nbformat": 4,
 "nbformat_minor": 5
}
