{
 "cells": [
  {
   "cell_type": "markdown",
   "id": "25d7736c-ba17-4aff-b6bb-66eba20fbf4e",
   "metadata": {},
   "source": [
    "# Lab | Functions"
   ]
  },
  {
   "cell_type": "markdown",
   "id": "0c581062-8967-4d93-b06e-62833222f930",
   "metadata": {
    "tags": []
   },
   "source": [
    "## Exercise: Managing Customer Orders with Functions\n",
    "\n",
    "In the previous exercise, you improved the code for managing customer orders by using loops and flow control. Now, let's take it a step further and refactor the code by introducing functions.\n",
    "\n",
    "Follow the steps below to complete the exercise:\n",
    "\n",
    "1. Define a function named `initialize_inventory` that takes `products` as a parameter. Inside the function, implement the code for initializing the inventory dictionary using a loop and user input.\n",
    "\n",
    "2. Define a function named `get_customer_orders` that takes no parameters. Inside the function, implement the code for prompting the user to enter the product names using a loop. The function should return the `customer_orders` set.\n",
    "\n",
    "3. Define a function named `update_inventory` that takes `customer_orders` and `inventory` as parameters. Inside the function, implement the code for updating the inventory dictionary based on the customer orders.\n",
    "\n",
    "4. Define a function named `calculate_order_statistics` that takes `customer_orders` and `products` as parameters. Inside the function, implement the code for calculating the order statistics (total products ordered, and percentage of unique products ordered). The function should return these values.\n",
    "\n",
    "5. Define a function named `print_order_statistics` that takes `order_statistics` as a parameter. Inside the function, implement the code for printing the order statistics.\n",
    "\n",
    "6. Define a function named `print_updated_inventory` that takes `inventory` as a parameter. Inside the function, implement the code for printing the updated inventory.\n",
    "\n",
    "7. Call the functions in the appropriate sequence to execute the program and manage customer orders.\n",
    "\n",
    "Hints for functions:\n",
    "\n",
    "- Consider the input parameters required for each function and their return values.\n",
    "- Utilize function parameters and return values to transfer data between functions.\n",
    "- Test your functions individually to ensure they work correctly.\n",
    "\n",
    "\n"
   ]
  },
  {
   "cell_type": "code",
   "execution_count": 36,
   "id": "f9c59527",
   "metadata": {},
   "outputs": [
    {
     "name": "stdout",
     "output_type": "stream",
     "text": [
      "enter the quantity of t-shirt:10\n",
      "enter the quantity of mug:10\n",
      "enter the quantity of hat:10\n",
      "enter the quantity of book:10\n",
      "enter the quantity of keychain:10\n"
     ]
    },
    {
     "data": {
      "text/plain": [
       "{'t-shirt': 10, 'mug': 10, 'hat': 10, 'book': 10, 'keychain': 10}"
      ]
     },
     "execution_count": 36,
     "metadata": {},
     "output_type": "execute_result"
    }
   ],
   "source": [
    "products =[\"t-shirt\", \"mug\", \"hat\", \"book\", \"keychain\"]\n",
    "customer_orders=dict()\n",
    "initialize_inventory(products)\n",
    "\n"
   ]
  },
  {
   "cell_type": "code",
   "execution_count": 52,
   "id": "910d82ae",
   "metadata": {},
   "outputs": [
    {
     "name": "stdout",
     "output_type": "stream",
     "text": [
      "enter name of your product: mug\n",
      "how many do you want to order: 10\n",
      "would you like to add another item?:yes\n",
      "enter name of your product: hat\n",
      "how many do you want to order: 10\n",
      "would you like to add another item?:no\n"
     ]
    },
    {
     "data": {
      "text/plain": [
       "{'mug': 10, 'hat': 10}"
      ]
     },
     "execution_count": 52,
     "metadata": {},
     "output_type": "execute_result"
    }
   ],
   "source": [
    "get_customer_orders()"
   ]
  },
  {
   "cell_type": "code",
   "execution_count": 38,
   "id": "dc047b2f",
   "metadata": {},
   "outputs": [
    {
     "name": "stdout",
     "output_type": "stream",
     "text": [
      "enter the quantity of t-shirt:10\n",
      "enter the quantity of mug:10\n",
      "enter the quantity of hat:10\n",
      "enter the quantity of book:10\n",
      "enter the quantity of keychain:10\n"
     ]
    },
    {
     "data": {
      "text/plain": [
       "{'t-shirt': 10, 'mug': 10, 'hat': 10, 'book': 10, 'keychain': 10}"
      ]
     },
     "execution_count": 38,
     "metadata": {},
     "output_type": "execute_result"
    }
   ],
   "source": [
    "def initialize_inventory(products):\n",
    "    inventory={}\n",
    "    for i in products:\n",
    "        quantity= input(f'enter the quantity of {i}:')\n",
    "        inventory[i]= quantity\n",
    "        while not quantity.isdigit():\n",
    "            quantity= input(f'not a integer number, please enter the quantity of {i}: ')    \n",
    "            inventory[i]= quantity\n",
    "        inventory[i]=int(inventory[i])\n",
    "    return inventory\n",
    "\n",
    "def get_customer_orders(): \n",
    "    while True:\n",
    "        order = input('enter name of your product: ')\n",
    "        while order not in products: \n",
    "            order = input(f'Please type a product in {products}')\n",
    "        quantity = input('how many do you want to order: ')\n",
    "        while not quantity.isdigit(): \n",
    "            quantity = input(f'Please type number ')\n",
    "        customer_orders.update({order:int(quantity)})       \n",
    "        extra_item=input(f'would you like to add another item?:' )\n",
    "        while not (extra_item==\"yes\" or extra_item==\"no\"): \n",
    "            extra_item=input(f\"Sorry I couldn't understand, please tape yes or no:\" )\n",
    "        if extra_item =='no':\n",
    "            return customer_orders\n",
    "\n",
    "customer_orders=get_customer_orders()\n",
    "inventory=initialize_inventory(products)        \n",
    "        \n",
    "def update_inventory(customer_orders,inventory):\n",
    "    for key,value in customer_orders.items():\n",
    "        inventory[key]-=customer_orders[key]\n",
    "\n"
   ]
  },
  {
   "cell_type": "code",
   "execution_count": 65,
   "id": "dbc52443",
   "metadata": {},
   "outputs": [
    {
     "data": {
      "text/plain": [
       "'they order a total of 20 and order 2 products, which is 40.0% of products'"
      ]
     },
     "execution_count": 65,
     "metadata": {},
     "output_type": "execute_result"
    }
   ],
   "source": [
    "def calculate_order_statistics(customer_orders,products):\n",
    "    total_items=0\n",
    "    for key,value in customer_orders.items():\n",
    "        total_items+=customer_orders[key]\n",
    "    porcentage_products=(len(customer_orders)/len(products)*100)\n",
    "    return f'they order a total of {total_items} and order {len(customer_orders)} products, which is {porcentage_products}% of products'\n",
    "calculate_order_statistics(customer_orders,products)       "
   ]
  },
  {
   "cell_type": "code",
   "execution_count": 59,
   "id": "511b32a2",
   "metadata": {},
   "outputs": [
    {
     "name": "stdout",
     "output_type": "stream",
     "text": [
      "40.0\n",
      "20\n",
      "{'mug': 10, 'hat': 10}\n"
     ]
    }
   ],
   "source": [
    "total_items=0\n",
    "for key,value in customer_orders.items():\n",
    "    total_items+=customer_orders[key]\n",
    "print(len(customer_orders)/len(products)*100)\n",
    "print(total_items)\n",
    "print(customer_orders)"
   ]
  }
 ],
 "metadata": {
  "kernelspec": {
   "display_name": "Python 3 (ipykernel)",
   "language": "python",
   "name": "python3"
  },
  "language_info": {
   "codemirror_mode": {
    "name": "ipython",
    "version": 3
   },
   "file_extension": ".py",
   "mimetype": "text/x-python",
   "name": "python",
   "nbconvert_exporter": "python",
   "pygments_lexer": "ipython3",
   "version": "3.11.5"
  }
 },
 "nbformat": 4,
 "nbformat_minor": 5
}
